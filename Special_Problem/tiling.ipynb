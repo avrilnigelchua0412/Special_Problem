{
 "cells": [
  {
   "cell_type": "code",
   "execution_count": 1,
   "id": "dc459457",
   "metadata": {},
   "outputs": [],
   "source": [
    "import torch\n",
    "import albumentations as A\n",
    "from albumentations.pytorch import ToTensorV2\n",
    "import matplotlib.pyplot as plt\n",
    "import numpy as np\n",
    "import pandas as pd\n",
    "from PIL import Image\n",
    "import os\n",
    "import json\n",
    "from sklearn.model_selection import train_test_split\n",
    "import shutil\n",
    "import cv2\n",
    "import math"
   ]
  },
  {
   "cell_type": "code",
   "execution_count": 2,
   "id": "1394baa6",
   "metadata": {},
   "outputs": [],
   "source": [
    "train_df = (pd.read_csv('/home/Special_Problem/train_df_summary.csv'))['File'].to_list()\n",
    "val_df = (pd.read_csv('/home/Special_Problem/val_df_summary.csv'))['File'].to_list()\n",
    "test_df = (pd.read_csv('/home/Special_Problem/test_df_summary.csv'))['File'].to_list()"
   ]
  },
  {
   "cell_type": "code",
   "execution_count": 3,
   "id": "5d68551f",
   "metadata": {},
   "outputs": [],
   "source": [
    "def populate_annotations(json_data, df, file):\n",
    "    label_map = {'Cluster' : 0, 'Clusters': 0, 'Thyrocyte': 1, 'Thyrocytes': 1}\n",
    "    annotations = []\n",
    "    for _, row in df.iterrows():\n",
    "        class_id = label_map[row['label_name']]\n",
    "        x_min = row['bbox_x']\n",
    "        y_min = row['bbox_y']\n",
    "        bbox_width = row['bbox_width']\n",
    "        bbox_height = row['bbox_height']\n",
    "        annotations.append({\n",
    "                \"class_id\" : class_id,\n",
    "                \"x_min\" : x_min,\n",
    "                \"y_min\" : y_min,\n",
    "                \"bbox_width\" : bbox_width,\n",
    "                \"bbox_height\" : bbox_height\n",
    "            })\n",
    "        \n",
    "    for item in json_data[file].values():\n",
    "        if isinstance(item, dict) and item:\n",
    "            for region in item.values():\n",
    "                label = region['region_attributes'][\"label\"]\n",
    "                class_id = label_map[label]  # map to int\n",
    "                \n",
    "                poly_x = region['shape_attributes']['all_points_x']\n",
    "                poly_y = region['shape_attributes']['all_points_y']\n",
    "                \n",
    "                x_min, x_max = min(poly_x), max(poly_x)\n",
    "                y_min, y_max = min(poly_y), max(poly_y)\n",
    "                bbox_width = x_max - x_min\n",
    "                bbox_height = y_max - y_min\n",
    "                \n",
    "                annotations.append({\n",
    "                        \"class_id\" : class_id,\n",
    "                        \"x_min\" : x_min,\n",
    "                        \"y_min\" : y_min,\n",
    "                        \"bbox_width\" : bbox_width,\n",
    "                        \"bbox_height\" : bbox_height\n",
    "                    })\n",
    "    # print(annotations)\n",
    "    return annotations"
   ]
  },
  {
   "cell_type": "code",
   "execution_count": 4,
   "id": "23d8b9c1",
   "metadata": {},
   "outputs": [],
   "source": [
    "def get_coordinates_intersections(x_min, t_x_min, y_min, t_y_min, x_max, t_x_max, y_max, t_y_max):\n",
    "    return (\n",
    "        max(x_min, t_x_min),   # overlap left\n",
    "        max(y_min, t_y_min),   # overlap top\n",
    "        min(x_max, t_x_max),   # overlap right\n",
    "        min(y_max, t_y_max)    # overlap bottom\n",
    "    )"
   ]
  },
  {
   "cell_type": "code",
   "execution_count": 5,
   "id": "b9e319e1",
   "metadata": {},
   "outputs": [],
   "source": [
    "def save_adjust_bboxes_for_tile(annotations, tile_x, tile_y, tile_size, rows, tile_id, file, tile, format, min_pixel_size = 8):\n",
    "    has_annotation = False\n",
    "    for annotation in annotations:\n",
    "        # Original Bounding Box\n",
    "        x_min, y_min = annotation['x_min'], annotation['y_min']\n",
    "        x_max, y_max = x_min + annotation['bbox_width'], y_min + annotation['bbox_height']\n",
    "\n",
    "        # Tile Corners\n",
    "        t_x_min, t_y_min = tile_x, tile_y\n",
    "        t_x_max, t_y_max = t_x_min + tile_size, t_y_min + tile_size\n",
    "\n",
    "        ix1, iy1, ix2, iy2 = get_coordinates_intersections(\n",
    "            x_min, t_x_min, y_min, t_y_min, x_max, t_x_max, y_max, t_y_max\n",
    "        )\n",
    "        if ix1 < ix2 and iy1 < iy2:\n",
    "            new_width = ix2 - ix1\n",
    "            new_height = iy2 - iy1\n",
    "            if new_width >= min_pixel_size and new_height >= min_pixel_size:\n",
    "                new_x = ix1 - tile_x\n",
    "                new_y = iy1 - tile_y\n",
    "                rows.append({\n",
    "                    'file': file,\n",
    "                    'tile_id' : tile_id,\n",
    "                    \"class_id\" : annotation['class_id'],\n",
    "                    \"x_min\" : new_x,\n",
    "                    \"y_min\" : new_y,\n",
    "                    \"bbox_width\" : new_width,\n",
    "                    \"bbox_height\" : new_height\n",
    "                })\n",
    "                has_annotation = True\n",
    "    # Save image only if annotation exists\n",
    "    save_dir = f'/home/Special_Problem/yolo_dataset_version_2/tiles/{file}'\n",
    "    os.makedirs(save_dir, exist_ok=True)\n",
    "    if has_annotation:\n",
    "        cv2.imwrite(f'/home/Special_Problem/yolo_dataset_version_2/tiles/{file}/{tile_id}.{format}', tile)"
   ]
  },
  {
   "cell_type": "code",
   "execution_count": 6,
   "id": "e264d1c5",
   "metadata": {},
   "outputs": [],
   "source": [
    "def get_directory(file):\n",
    "    if file in train_df:\n",
    "        return \"train/original\"\n",
    "    if file in val_df:\n",
    "        return \"val\"\n",
    "    if file in test_df:\n",
    "        return \"test\""
   ]
  },
  {
   "cell_type": "code",
   "execution_count": 7,
   "id": "59f4f700",
   "metadata": {},
   "outputs": [
    {
     "name": "stdout",
     "output_type": "stream",
     "text": [
      "/home/Special_Problem/yolo_dataset_version_2/preprocessed/preprocessed.csv\n"
     ]
    }
   ],
   "source": [
    "dataset = os.walk('/home/Special_Problem/Data')\n",
    "rows = []\n",
    "for root, dirs, files in dataset:\n",
    "    for file in files:\n",
    "        if file.endswith('.jpg') or file.endswith('.jpeg') or file.endswith('.png'):\n",
    "            format = file.split('.')[-1]\n",
    "            try:\n",
    "                csv_path = os.path.join(root + \" - ANNOTATED FILES\", file.replace(f\".{format}\", \"A.csv\"))\n",
    "                json_path = os.path.join(root + \" - ANNOTATED FILES\", file.replace(f\".{format}\", \"B.json\"))\n",
    "                \n",
    "                with open(json_path, \"r\") as json_file:\n",
    "                    json_data = json.load(json_file)\n",
    "                df = pd.read_csv(csv_path)\n",
    "                annotations = populate_annotations(json_data, df, file)\n",
    "                                \n",
    "                bgr_image = cv2.imread(os.path.join(root, file))\n",
    "                rgb_image = cv2.cvtColor(bgr_image, cv2.COLOR_BGR2RGB)\n",
    "                \n",
    "                height, width, _ = rgb_image.shape\n",
    "                stride = int(512 * (1 - .25)) # Tile size and 25% \"Windowing Overlap\"\n",
    "                tile_id = 0\n",
    "                \n",
    "                for row_idx, y0 in enumerate(range(0, height, stride)):\n",
    "                    for col_idx, x0 in enumerate(range(0, width, stride)):\n",
    "                        tile_id = f\"{row_idx}_{col_idx}\"\n",
    "                        \n",
    "                        x1 = min(x0 + 512, width)\n",
    "                        y1 = min(y0 + 512, height)\n",
    "                        tile = rgb_image[y0:y1, x0:x1]\n",
    "\n",
    "                        save_adjust_bboxes_for_tile(annotations, x0, y0, 512, rows, tile_id, file, tile, format)\n",
    "                        \n",
    "            except FileNotFoundError:\n",
    "                print(\"File not found\")\n",
    "rows = pd.DataFrame(rows, columns=['file', 'tile_id', 'class_id', 'x_min', 'y_min', 'bbox_width', 'bbox_height'])\n",
    "rows.to_csv('/home/Special_Problem/yolo_dataset_version_2/preprocessed/preprocessed.csv', index=False)\n",
    "print(\"/home/Special_Problem/yolo_dataset_version_2/preprocessed/preprocessed.csv\")"
   ]
  },
  {
   "cell_type": "code",
   "execution_count": 8,
   "id": "b1ed763b",
   "metadata": {},
   "outputs": [],
   "source": [
    "def get_normalize_bounding_box(x_min, y_min, bbox_width, bbox_height, img_width, img_height):\n",
    "    x_center = (x_min + bbox_width / 2) / img_width\n",
    "    y_center = (y_min + bbox_height / 2) / img_height\n",
    "    w_norm = bbox_width / img_width\n",
    "    h_norm = bbox_height / img_height\n",
    "    return x_center, y_center, w_norm, h_norm"
   ]
  }
 ],
 "metadata": {
  "kernelspec": {
   "display_name": "base",
   "language": "python",
   "name": "python3"
  },
  "language_info": {
   "codemirror_mode": {
    "name": "ipython",
    "version": 3
   },
   "file_extension": ".py",
   "mimetype": "text/x-python",
   "name": "python",
   "nbconvert_exporter": "python",
   "pygments_lexer": "ipython3",
   "version": "3.11.13"
  }
 },
 "nbformat": 4,
 "nbformat_minor": 5
}
